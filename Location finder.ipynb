{
 "cells": [
  {
   "cell_type": "code",
   "execution_count": 1,
   "id": "4e1050f9",
   "metadata": {
    "scrolled": true
   },
   "outputs": [
    {
     "data": {
      "text/html": [
       "<div>\n",
       "<style scoped>\n",
       "    .dataframe tbody tr th:only-of-type {\n",
       "        vertical-align: middle;\n",
       "    }\n",
       "\n",
       "    .dataframe tbody tr th {\n",
       "        vertical-align: top;\n",
       "    }\n",
       "\n",
       "    .dataframe thead th {\n",
       "        text-align: right;\n",
       "    }\n",
       "</style>\n",
       "<table border=\"1\" class=\"dataframe\">\n",
       "  <thead>\n",
       "    <tr style=\"text-align: right;\">\n",
       "      <th></th>\n",
       "      <th>City</th>\n",
       "    </tr>\n",
       "  </thead>\n",
       "  <tbody>\n",
       "    <tr>\n",
       "      <th>0</th>\n",
       "      <td>Bangalore</td>\n",
       "    </tr>\n",
       "    <tr>\n",
       "      <th>1</th>\n",
       "      <td>Mumbai</td>\n",
       "    </tr>\n",
       "    <tr>\n",
       "      <th>2</th>\n",
       "      <td>Chennai</td>\n",
       "    </tr>\n",
       "    <tr>\n",
       "      <th>3</th>\n",
       "      <td>DelHI</td>\n",
       "    </tr>\n",
       "    <tr>\n",
       "      <th>4</th>\n",
       "      <td>Hyderabad</td>\n",
       "    </tr>\n",
       "    <tr>\n",
       "      <th>5</th>\n",
       "      <td>Ananthapur</td>\n",
       "    </tr>\n",
       "    <tr>\n",
       "      <th>6</th>\n",
       "      <td>WARANGAL</td>\n",
       "    </tr>\n",
       "  </tbody>\n",
       "</table>\n",
       "</div>"
      ],
      "text/plain": [
       "         City\n",
       "0   Bangalore\n",
       "1      Mumbai\n",
       "2     Chennai\n",
       "3       DelHI\n",
       "4   Hyderabad\n",
       "5  Ananthapur\n",
       "6    WARANGAL"
      ]
     },
     "execution_count": 1,
     "metadata": {},
     "output_type": "execute_result"
    }
   ],
   "source": [
    "# Import pandas package\n",
    "import pandas as pd\n",
    "import numpy as np\n",
    "\t\n",
    "# Define a dictionary containing data\n",
    "data = {'City':['Bangalore', 'Mumbai', 'Chennai', 'DelHI','Hyderabad','Ananthapur','WARANGAL']}\n",
    "\t\n",
    "# Convert the dictionary into DataFrame\n",
    "df = pd.DataFrame(data)\n",
    "\t\n",
    "# Observe the result\n",
    "df\n"
   ]
  },
  {
   "cell_type": "code",
   "execution_count": 2,
   "id": "4af1994c",
   "metadata": {},
   "outputs": [],
   "source": [
    "from geopy.exc import GeocoderTimedOut\n",
    "from geopy.geocoders import Nominatim"
   ]
  },
  {
   "cell_type": "code",
   "execution_count": 3,
   "id": "309db1e6",
   "metadata": {},
   "outputs": [],
   "source": [
    "longitude = []\n",
    "latitude = []\n",
    "   "
   ]
  },
  {
   "cell_type": "code",
   "execution_count": 4,
   "id": "8f44d3d9",
   "metadata": {},
   "outputs": [],
   "source": [
    "def findGeocode(city):\n",
    "    try:\n",
    "        geolocator = Nominatim(user_agent=\"your_app_name\")\n",
    "        return geolocator.geocode(city)\n",
    "    except GeocoderTimedOut:\n",
    "        return findGeocode(city) "
   ]
  },
  {
   "cell_type": "code",
   "execution_count": 5,
   "id": "ca0c3d38",
   "metadata": {},
   "outputs": [],
   "source": [
    "for i in (df[\"City\"]):\n",
    "    if findGeocode(i) != None:\n",
    "        loc = findGeocode(i)\n",
    "        latitude.append(loc.latitude)\n",
    "        longitude.append(loc.longitude)\n",
    "    else:\n",
    "        latitude.append(np.nan)\n",
    "        longitude.append(np.nan)\n",
    "          "
   ]
  },
  {
   "cell_type": "code",
   "execution_count": 6,
   "id": "049de82c",
   "metadata": {},
   "outputs": [
    {
     "data": {
      "text/plain": [
       "[12.9791198,\n",
       " 19.0759899,\n",
       " 13.0836939,\n",
       " 28.6517178,\n",
       " 17.360589,\n",
       " 19.5048853,\n",
       " 17.9806094]"
      ]
     },
     "execution_count": 6,
     "metadata": {},
     "output_type": "execute_result"
    }
   ],
   "source": [
    "latitude"
   ]
  },
  {
   "cell_type": "code",
   "execution_count": 7,
   "id": "f76ec7b2",
   "metadata": {},
   "outputs": [
    {
     "data": {
      "text/html": [
       "<div>\n",
       "<style scoped>\n",
       "    .dataframe tbody tr th:only-of-type {\n",
       "        vertical-align: middle;\n",
       "    }\n",
       "\n",
       "    .dataframe tbody tr th {\n",
       "        vertical-align: top;\n",
       "    }\n",
       "\n",
       "    .dataframe thead th {\n",
       "        text-align: right;\n",
       "    }\n",
       "</style>\n",
       "<table border=\"1\" class=\"dataframe\">\n",
       "  <thead>\n",
       "    <tr style=\"text-align: right;\">\n",
       "      <th></th>\n",
       "      <th>City</th>\n",
       "      <th>Longitude</th>\n",
       "      <th>Latitude</th>\n",
       "    </tr>\n",
       "  </thead>\n",
       "  <tbody>\n",
       "    <tr>\n",
       "      <th>0</th>\n",
       "      <td>Bangalore</td>\n",
       "      <td>77.591300</td>\n",
       "      <td>12.979120</td>\n",
       "    </tr>\n",
       "    <tr>\n",
       "      <th>1</th>\n",
       "      <td>Mumbai</td>\n",
       "      <td>72.877393</td>\n",
       "      <td>19.075990</td>\n",
       "    </tr>\n",
       "    <tr>\n",
       "      <th>2</th>\n",
       "      <td>Chennai</td>\n",
       "      <td>80.270186</td>\n",
       "      <td>13.083694</td>\n",
       "    </tr>\n",
       "    <tr>\n",
       "      <th>3</th>\n",
       "      <td>DelHI</td>\n",
       "      <td>77.221939</td>\n",
       "      <td>28.651718</td>\n",
       "    </tr>\n",
       "    <tr>\n",
       "      <th>4</th>\n",
       "      <td>Hyderabad</td>\n",
       "      <td>78.474061</td>\n",
       "      <td>17.360589</td>\n",
       "    </tr>\n",
       "    <tr>\n",
       "      <th>5</th>\n",
       "      <td>Ananthapur</td>\n",
       "      <td>78.430935</td>\n",
       "      <td>19.504885</td>\n",
       "    </tr>\n",
       "    <tr>\n",
       "      <th>6</th>\n",
       "      <td>WARANGAL</td>\n",
       "      <td>79.598212</td>\n",
       "      <td>17.980609</td>\n",
       "    </tr>\n",
       "  </tbody>\n",
       "</table>\n",
       "</div>"
      ],
      "text/plain": [
       "         City  Longitude   Latitude\n",
       "0   Bangalore  77.591300  12.979120\n",
       "1      Mumbai  72.877393  19.075990\n",
       "2     Chennai  80.270186  13.083694\n",
       "3       DelHI  77.221939  28.651718\n",
       "4   Hyderabad  78.474061  17.360589\n",
       "5  Ananthapur  78.430935  19.504885\n",
       "6    WARANGAL  79.598212  17.980609"
      ]
     },
     "execution_count": 7,
     "metadata": {},
     "output_type": "execute_result"
    }
   ],
   "source": [
    "df[\"Longitude\"] = longitude\n",
    "df[\"Latitude\"] = latitude\n",
    "  \n",
    "df"
   ]
  },
  {
   "cell_type": "code",
   "execution_count": null,
   "id": "782e27e3",
   "metadata": {},
   "outputs": [],
   "source": []
  }
 ],
 "metadata": {
  "kernelspec": {
   "display_name": "Python 3",
   "language": "python",
   "name": "python3"
  },
  "language_info": {
   "codemirror_mode": {
    "name": "ipython",
    "version": 3
   },
   "file_extension": ".py",
   "mimetype": "text/x-python",
   "name": "python",
   "nbconvert_exporter": "python",
   "pygments_lexer": "ipython3",
   "version": "3.8.8"
  }
 },
 "nbformat": 4,
 "nbformat_minor": 5
}
